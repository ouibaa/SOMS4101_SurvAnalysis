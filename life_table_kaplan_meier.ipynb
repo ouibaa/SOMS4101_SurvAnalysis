{
  "nbformat": 4,
  "nbformat_minor": 0,
  "metadata": {
    "colab": {
      "name": "life_table_kaplan_meier.ipynb",
      "provenance": [],
      "collapsed_sections": [],
      "authorship_tag": "ABX9TyP0gaFq9P894ZVf0xv6hEsB",
      "include_colab_link": true
    },
    "kernelspec": {
      "name": "ir",
      "display_name": "R"
    }
  },
  "cells": [
    {
      "cell_type": "markdown",
      "metadata": {
        "id": "view-in-github",
        "colab_type": "text"
      },
      "source": [
        "<a href=\"https://colab.research.google.com/github/ouibaa/SOMS4101_SurvAnalysis/blob/main/life_table_kaplan_meier.ipynb\" target=\"_parent\"><img src=\"https://colab.research.google.com/assets/colab-badge.svg\" alt=\"Open In Colab\"/></a>"
      ]
    },
    {
      "cell_type": "markdown",
      "metadata": {
        "id": "iffPeoFitsG1"
      },
      "source": [
        "## Example paper\n",
        "This code/example has been built for the paper from \n",
        "[*CA 19-9 and CA 125 as potential predictors of disease recurrence in resectable lung adenocarcinoma* (Isaksson et al)](https://journals.plos.org/plosone/article?id=10.1371/journal.pone.0186284)"
      ]
    },
    {
      "cell_type": "code",
      "metadata": {
        "id": "Dhe1g69nroJ5"
      },
      "source": [
        "# Load relevant libraries\n",
        "library(survival) # This library allows us to fit the survival curve\n",
        "install.packages(\"survminer\") #Install packages with this command - might take a while on colaboratory.\n",
        "library(survminer) # Creates nice looking plots for survival analysis\n",
        "library (ggplot2) # Grammar of Graphics, allows us to plot the data\n",
        "install.packages(\"skimr\") # Install package to give you descriptive analysis of data\n",
        "library(skimr)"
      ],
      "execution_count": null,
      "outputs": []
    },
    {
      "cell_type": "markdown",
      "metadata": {
        "id": "9gQyDCgzsydE"
      },
      "source": [
        "## Loading data\n",
        "You should always start with loading data. In terms of how R works, the `=` can be replaced with `<-`, both of which are called the 'assignment operator'.\n",
        "\n",
        "Think about the line `data = read.csv(\"./folder/file.csv\")` - this could alternatively also be written as `data <- read.csv(\"./folder/file.csv\")`. In both cases, the computer reads the 'right hand side' of the operator FIRST (i.e. it performs the operation `read.csv()` and reads the file (that you've pointed to), which SHOULD be a .csv file.\n",
        "\n",
        "THEN, the computer needs to store it somewhere - in this case, the 'assignment operator' will **assign** the values in the csv file it has read **into** whatever variable you wrote on the left hand side (i.e. the `data` variable in this case).\n",
        "\n",
        "Now, instead of re-reading the csv file each time you run your code (which will take forever if you have a massive file), you can simply refer to the `data` variable, which will have ALL the information in your .csv file."
      ]
    },
    {
      "cell_type": "code",
      "metadata": {
        "id": "O55XmVo0qE2N"
      },
      "source": [
        "# Load data\n",
        "data = read.csv(\"https://raw.githubusercontent.com/ouibaa/SOMS4101_SurvAnalysis/main/cancerdata.csv\") # This file should be dragged into the colab files"
      ],
      "execution_count": null,
      "outputs": []
    },
    {
      "cell_type": "code",
      "metadata": {
        "id": "noCCCXUZrtvJ"
      },
      "source": [
        "# If you want to read from a .xlsx file (Don't have to use this if you don't want to - for your own knowledge)\n",
        "install.packages(\"readxl\")\n",
        "library(readxl)\n",
        "data = read.excel(\"./localdirection/file.xlsx\")"
      ],
      "execution_count": null,
      "outputs": []
    }
  ]
}